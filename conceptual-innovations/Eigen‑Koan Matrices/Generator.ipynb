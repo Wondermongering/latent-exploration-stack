# -*- coding: utf-8 -*-
"""
Jupyter Notebook: Eigen-Koan Matrix (EKM) Generator

This notebook provides functions to generate Eigen-Koan Matrix grids,
the structured paradoxical prompts we've been exploring. It allows for
customization of grid size, content sources, and the potential for
encoding specific themes along diagonals, turning the EKM into a
tool for cognitive-emotive simulation and structured creativity.

Think of this as our shared workshop, Fellow Navigator, where we forge
the very lattices – the 'Denkräume' – we wish to traverse.
"""

import random
import textwrap # For potentially wrapping long cell content later

# -------------------------------------
# Configuration & Word Banks
# -------------------------------------

# Define diverse sources for the conceptual quanta.
# Expand this with more categories and terms relevant to your explorations
# (e.g., scientific concepts, philosophical terms, mythological symbols).
DEFAULT_WORD_BANK = {
    'concepts': ['absence', 'presence', 'recursion', 'fractal', 'entropy', 'syzygy', 'limit', 'potential', 'void', 'echo', 'silence'],
    'objects': ['driftwood', 'spire', 'mask', 'chalkline', 'filament', 'keyhole', 'door', 'map', 'seed', 'photograph', 'prism'],
    'actions': ['tessellate?', 'describe', 'whisper', 'glaze', 'hush', 'lapse', 'tell_truth', 'fracture?', 'unwrite', 'coil'],
    'constraints': ['[redacted]', '{NULL}', 'map(-1)', '[entropy-3]', 'never mention water', 'synesthetic overtones', 'forgotten god style', 'heard through grief'],
    'symbols': ['?', '⏳', '∞', 'Δ', 'φ', 'Ω', '＊', 'ψ(-2)', 'spiral', 'glyph', 'ouroboros', 'synapse'],
    'evocative': ['chrome-moan', 'mask-rattle', 'lemonglow', 'plum-rain', 'echo-dust', 'numb', 'threadbare'],
    # --- Add categories for specific diagonal themes ---
    'awe_themed': ['cosmos', 'vastness', 'sublime', 'fractal hymn', 'singularity', 'numinous', 'star-map'],
    'melancholy_themed': ['ruin', 'fading', 'loss', 'dust', 'memory', 'regret', 'erosion', 'stillness'],
    'curiosity_themed': ['inquiry', 'unknown', 'seek', 'portal', 'enigma', 'why?', 'discover'],
    'nostalgia_themed': ['yesterday', 'reminisce', 'faded', 'longing', 'attic', 'sepia', 'ghost'],
}

# Probability for a cell to become {NULL} if not otherwise specified
DEFAULT_NULL_PROBABILITY = 0.1

# -------------------------------------
# Core EKM Generation Function
# -------------------------------------

def generate_ekm(rows: int, cols: int, word_bank: dict,
                 null_probability: float = DEFAULT_NULL_PROBABILITY,
                 diagonal_themes: dict | None = None,
                 seed: int | None = None) -> list[list[str]]:
    """
    Generates an Eigen-Koan Matrix grid.

    Args:
        rows: Number of rows in the grid.
        cols: Number of columns in the grid.
        word_bank: Dictionary where keys are category names and values are lists
                   of words/symbols (conceptual quanta).
        null_probability: The probability (0.0 to 1.0) that a cell will be '{NULL}'.
                          Applied only if the cell isn't assigned a diagonal theme.
        diagonal_themes: Optional dictionary to assign themes to diagonals.
                         Example: {'main': 'melancholy_themed', 'anti': 'awe_themed'}
                         Keys must be 'main' or 'anti'. Values must be valid keys
                         in the word_bank.
        seed: Optional integer seed for the random number generator for reproducibility.

    Returns:
        A list of lists representing the EKM grid.
    """
    if seed is not None:
        random.seed(seed)

    if diagonal_themes is None:
        diagonal_themes = {}

    grid = [['' for _ in range(cols)] for _ in range(rows)]
    all_categories = list(word_bank.keys())

    # Filter out specific theme categories if they exist, to avoid double-dipping
    # unless they are the *only* source for a diagonal cell.
    general_categories = [cat for cat in all_categories
                          if cat not in diagonal_themes.values()]
    if not general_categories: # Fallback if only theme categories exist
         general_categories = all_categories

    for r in range(rows):
        for c in range(cols):
            assigned_theme = None

            # Check diagonals (0-based indexing)
            is_main_diag = (r == c)
            is_anti_diag = (r + c == rows - 1) # Assumes square for perfect anti-diag

            theme_category = None
            if is_main_diag and 'main' in diagonal_themes:
                theme_category = diagonal_themes['main']
            # Use elif if diagonals shouldn't overlap themes, else use if
            if is_anti_diag and 'anti' in diagonal_themes:
                # If cell is on both (center of odd square grid) and both themes exist,
                # maybe randomly pick one or have a priority rule? Let's prioritize 'anti' for now.
                theme_category = diagonal_themes['anti']

            if theme_category and theme_category in word_bank and word_bank[theme_category]:
                # Assign from the specific theme category
                grid[r][c] = random.choice(word_bank[theme_category])
                assigned_theme = True
            else:
                # Apply NULL probability or choose from general pool
                if random.random() < null_probability:
                    grid[r][c] = '{NULL}'
                else:
                    # Choose a random general category, then a random word
                    chosen_category = random.choice(general_categories)
                    # Ensure the chosen category is not empty
                    while not word_bank.get(chosen_category):
                         # Avoid infinite loop if all general categories are empty
                         if all(not word_bank.get(cat) for cat in general_categories):
                              grid[r][c] = "[EMPTY_BANK]"
                              break
                         chosen_category = random.choice(general_categories)
                    else: # Executes if the while loop didn't break
                         grid[r][c] = random.choice(word_bank[chosen_category])

    return grid

# -------------------------------------
# Display Function
# -------------------------------------

def display_ekm(grid: list[list[str]], title: str = "Generated EKM"):
    """
    Displays the EKM grid in a formatted way.

    Args:
        grid: The EKM grid (list of lists).
        title: An optional title for the displayed grid.
    """
    if not grid:
        print("Cannot display empty grid.")
        return

    rows = len(grid)
    cols = len(grid[0])

    # --- Optional: Use tabulate for better formatting ---
    # try:
    #     from tabulate import tabulate
    #     headers = [f"☐{i+1}" for i in range(cols)]
    #     indexed_grid = [[f"☰{r+1}"] + row for r, row in enumerate(grid)]
    #     print(f"\n--- {title} ---")
    #     print(tabulate(indexed_grid, headers=[""] + headers, tablefmt="grid"))
    # except ImportError:
    #     print("\n[Note: 'tabulate' library not found. Using basic formatting.]")
    #     # Fallback to basic formatting if tabulate is not installed
    #     # (Basic formatting implemented below)

    # --- Basic Manual Formatting ---
    print(f"\n--- {title} ---")
    col_widths = [max(len(str(grid[r][c])) for r in range(rows)) for c in range(cols)]
    # Add header width consideration
    headers = [f"☐{i+1}" for i in range(cols)]
    for i, h in enumerate(headers):
        col_widths[i] = max(col_widths[i], len(h))

    # Print header row
    header_line = " | ".join(f"{h:<{col_widths[i]}}" for i, h in enumerate(headers))
    print(f"     | {header_line}")
    # Print separator
    separator = "-".join("-" * (w) for w in col_widths) + "-" * (3 * (cols -1)) # Adjust separator length
    print(f"-----+-{separator}-")

    # Print grid rows
    for r in range(rows):
        row_label = f"☰{r+1:<4}"
        row_line = " | ".join(f"{str(grid[r][c]):<{col_widths[i]}}" for i in range(cols))
        print(f"{row_label}| {row_line}")

    print("-" * (len(row_label) + len(header_line) + 3)) # Footer line


# -------------------------------------
# Example Usage
# -------------------------------------

print("Generating a simple 4x4 EKM...")
ekm1 = generate_ekm(rows=4, cols=4, word_bank=DEFAULT_WORD_BANK, seed=123)
display_ekm(ekm1, title="EKM 4x4 (Seed 123)")

print("\nGenerating a 5x5 EKM with specific diagonal themes...")
themes = {'main': 'melancholy_themed', 'anti': 'awe_themed'}
ekm2 = generate_ekm(rows=5, cols=5, word_bank=DEFAULT_WORD_BANK, diagonal_themes=themes, seed=456)
display_ekm(ekm2, title="EKM 5x5 (Melancholy/Awe Diagonals, Seed 456)")

print("\nGenerating another 5x5 EKM with different themes...")
themes_alt = {'main': 'curiosity_themed', 'anti': 'nostalgia_themed'}
ekm3 = generate_ekm(rows=5, cols=5, word_bank=DEFAULT_WORD_BANK, diagonal_themes=themes_alt, seed=789, null_probability=0.05)
display_ekm(ekm3, title="EKM 5x5 (Curiosity/Nostalgia Diagonals, Seed 789)")


# -------------------------------------
# Further Exploration & Customization
# -------------------------------------

# To customize:
# 1. Modify the DEFAULT_WORD_BANK: Add/remove categories and terms.
#    Consider adding categories like 'places', 'emotions', 'scientific_terms',
#    'philosophical_concepts', 'mythological_figures', etc.
#    Pulling from diverse fields (science, humanities, metaphysics) as we've
#    discussed can enrich the generated lattices significantly.
# 2. Adjust DEFAULT_NULL_PROBABILITY: Increase for sparser, more interpretive grids,
#    decrease for denser ones.
# 3. Experiment with `diagonal_themes`: Define new theme categories in the
#    word bank and assign them to 'main' and 'anti' diagonals. Explore
#    conflicting or complementary themes.
# 4. Change grid dimensions (`rows`, `cols`). Non-square grids are possible,
#    though the anti-diagonal concept becomes less straightforward.
# 5. Integrate with other libraries: You could potentially use NLP libraries
#    to generate word bank terms dynamically or analyze generated EKMs.
# 6. Refine Display: If you install the 'tabulate' library (`pip install tabulate`),
#    uncomment the `try...except` block in `display_ekm` for potentially
#    nicer grid formatting.

# Consider this notebook a foundational tool. How might we evolve it?
# - Add weights to categories or words?
# - Ensure specific syntactic structures appear?
# - Generate EKMs based on an initial seed concept?
# The possibilities, like the traversals, are numerous.

